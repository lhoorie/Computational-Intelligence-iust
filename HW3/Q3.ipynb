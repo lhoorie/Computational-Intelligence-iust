{
 "cells": [
  {
   "cell_type": "code",
   "execution_count": 2,
   "metadata": {},
   "outputs": [],
   "source": [
    "from simpful import *"
   ]
  },
  {
   "cell_type": "code",
   "execution_count": 22,
   "metadata": {},
   "outputs": [],
   "source": [
    "class FuzzyController:\n",
    "    def __init__(self):\n",
    "        self.fuzzy_system = FuzzySystem()\n",
    "\n",
    "    def define_terms(self):\n",
    "        temperture = AutoTriangle(5, terms=['VeryCold', 'Cold', 'Medium', 'Hot', 'VeryHot'], universe_of_discourse=[0, 40]) \n",
    "        humidity = AutoTriangle(5, terms=['VeryLow', 'Low', 'Medium', 'High', 'VeryHigh'], universe_of_discourse=[0, 100]) \n",
    "        rain = AutoTriangle(3, terms=['Low', 'Medium', 'High'], universe_of_discourse=[0, 100]) \n",
    "        height = AutoTriangle(3, terms=['Low', 'Medium', 'High'], universe_of_discourse=[0, 1000]) \n",
    "        self.fuzzy_system.add_linguistic_variable(\"PastTemperture\", temperture) \n",
    "        self.fuzzy_system.add_linguistic_variable(\"Humidity\", humidity) \n",
    "        self.fuzzy_system.add_linguistic_variable(\"Rain\", rain) \n",
    "        self.fuzzy_system.add_linguistic_variable(\"Height\", height) \n",
    "        self.fuzzy_system.add_linguistic_variable(\"Temperture\", temperture)\n",
    "\n",
    "    def add_rules(self, rules):\n",
    "        self.fuzzy_system.add_rules(rules)\n",
    "        \n",
    "    def add_variables(self, values):\n",
    "        self.fuzzy_system.set_variable('PastTemperture', values[0])\n",
    "        self.fuzzy_system.set_variable('Humidity', values[1]) \n",
    "        self.fuzzy_system.set_variable('Rain', values[2]) \n",
    "        self.fuzzy_system.set_variable('Height', values[3])\n",
    "\n",
    "    def inference(self):\n",
    "        return self.fuzzy_system.inference()"
   ]
  },
  {
   "cell_type": "code",
   "execution_count": 28,
   "metadata": {},
   "outputs": [],
   "source": [
    "# Define Rules\n",
    "rules = [\n",
    "        \"IF (PastTemperture IS Medium) AND (Humidity IS High) AND (Rain IS Low) AND (Height IS Medium) THEN (Temperture IS Hot)\", \n",
    "        \"IF (PastTemperture IS Hot) AND (Humidity IS Medium) AND (Rain IS Low) AND (Height IS Low) THEN (Temperture IS VeryHot)\", \n",
    "        \"IF (PastTemperture IS Hot) AND (Humidity IS High) AND (Rain IS Medium) AND (Height IS High) THEN (Temperture IS Hot)\", \n",
    "        \"IF (PastTemperture IS VeryHot) AND (Humidity IS Medium) AND (Rain IS Medium) AND (Height IS Low) THEN (Temperture IS VeryHot)\", \n",
    "        \"IF (PastTemperture IS Medium) AND (Humidity IS Medium) AND (Rain IS Medium) AND (Height IS Medium) THEN (Temperture IS Medium)\", \n",
    "        \"IF (PastTemperture IS Medium) AND (Humidity IS Low) AND (Rain IS High) AND (Height IS High) THEN (Temperture IS Cold)\", \n",
    "        \"IF (PastTemperture IS Cold) AND (Humidity IS High) AND (Rain IS High) AND (Height IS Medium) THEN (Temperture IS Cold)\", \n",
    "        \"IF (PastTemperture IS VeryCold) AND (Humidity IS High) AND (Rain IS High) AND (Height IS High) THEN (Temperture IS VeryCold)\"\n",
    "        ]\n",
    "\n",
    "# Define Variables\n",
    "values = [17, 30, 30, 300]"
   ]
  },
  {
   "cell_type": "code",
   "execution_count": 29,
   "metadata": {},
   "outputs": [
    {
     "name": "stdout",
     "output_type": "stream",
     "text": [
      "  ____  __  _  _  ____  ____  _  _  __   \n",
      " / ___)(  )( \\/ )(  _ \\(  __)/ )( \\(  ) v2.9.0 \n",
      " \\___ \\ )( / \\/ \\ ) __/ ) _) ) \\/ (/ (_/\\ \n",
      " (____/(__)\\_)(_/(__)  (__)  \\____/\\____/\n",
      "\n",
      " Created by Marco S. Nobile (m.s.nobile@tue.nl)\n",
      " and Simone Spolaor (simone.spolaor@unimib.it)\n",
      "\n",
      "{'Temperture': 19.999999999999847}\n"
     ]
    }
   ],
   "source": [
    "FC = FuzzyController()\n",
    "FC.define_terms()\n",
    "FC.add_rules(rules)\n",
    "FC.add_variables(values)\n",
    "temp = FC.inference()\n",
    "print(temp)"
   ]
  }
 ],
 "metadata": {
  "kernelspec": {
   "display_name": "Python 3",
   "language": "python",
   "name": "python3"
  },
  "language_info": {
   "codemirror_mode": {
    "name": "ipython",
    "version": 3
   },
   "file_extension": ".py",
   "mimetype": "text/x-python",
   "name": "python",
   "nbconvert_exporter": "python",
   "pygments_lexer": "ipython3",
   "version": "3.8.0"
  },
  "orig_nbformat": 4,
  "vscode": {
   "interpreter": {
    "hash": "723d4b7bc280cd31fdada53ad6420192b9a3a8d60631096143cc718cb9440dc1"
   }
  }
 },
 "nbformat": 4,
 "nbformat_minor": 2
}
