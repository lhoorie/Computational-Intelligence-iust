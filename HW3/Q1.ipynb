{
 "cells": [
  {
   "cell_type": "code",
   "execution_count": 55,
   "metadata": {},
   "outputs": [],
   "source": [
    "import numpy as np\n",
    "import math\n",
    "from itertools import product"
   ]
  },
  {
   "cell_type": "code",
   "execution_count": 61,
   "metadata": {},
   "outputs": [],
   "source": [
    "class Hopfield:\n",
    "    def __init__(self, patterns):\n",
    "        self.patterns = patterns\n",
    "        self.n_patterns = len(patterns[0])\n",
    "        self.w = None\n",
    "        self.epoch = None\n",
    "\n",
    "    def calculate_weight(self):\n",
    "        temp = np.dot(self.patterns.T, self.patterns)\n",
    "        np.fill_diagonal(temp, 0.0)\n",
    "        self.w = temp\n",
    "        return self.w\n",
    "\n",
    "    def calculate_closest(self, a, epoch):\n",
    "        activation = np.array(a)\n",
    "        self.epoch = epoch\n",
    "        res = 'Not Stable!'\n",
    "\n",
    "        # initialize lists for maintaining the choices\n",
    "        choices = [activation]\n",
    "        diffs = [math.inf]\n",
    "\n",
    "        for i in range(self.epoch):\n",
    "            # calculate the activation\n",
    "            activation = np.sign(np.dot(activation, self.w))\n",
    "            choices.append(activation)\n",
    "\n",
    "            # calculate the difference\n",
    "            diff = self.n_patterns - np.count_nonzero(np.equal(a, activation))\n",
    "            diffs.append(diff)\n",
    "\n",
    "            # check whether it is stable or not\n",
    "            # only check the last 2 items\n",
    "            if np.count_nonzero(np.equal(choices[-1], choices[-2])) == self.n_patterns:\n",
    "                if i == 0:\n",
    "                    # it means that the initial input is stable\n",
    "                    res = 'Stable!'\n",
    "                break\n",
    "        \n",
    "        # calculate the details about closest one\n",
    "        np_choices = np.array(choices)\n",
    "        np_diffs = np.array(diffs)\n",
    "\n",
    "        idx_closest = np.argmin(np_diffs)\n",
    "\n",
    "        closest = np_choices[idx_closest]\n",
    "        energy = -1 * np.sum(self.w * np.outer(closest, closest))\n",
    "        acc = 100 * ((self.n_patterns - np_diffs[idx_closest]) / self.n_patterns)\n",
    "\n",
    "        return closest, energy, acc, res"
   ]
  },
  {
   "attachments": {},
   "cell_type": "markdown",
   "metadata": {},
   "source": [
    "# A"
   ]
  },
  {
   "cell_type": "code",
   "execution_count": 62,
   "metadata": {},
   "outputs": [
    {
     "name": "stdout",
     "output_type": "stream",
     "text": [
      "[[ 0  1 -1  3  1 -1  3 -1]\n",
      " [ 1  0  1  1 -1  1  1  1]\n",
      " [-1  1  0 -1  1 -1 -1  3]\n",
      " [ 3  1 -1  0  1 -1  3 -1]\n",
      " [ 1 -1  1  1  0 -3  1  1]\n",
      " [-1  1 -1 -1 -3  0 -1 -1]\n",
      " [ 3  1 -1  3  1 -1  0 -1]\n",
      " [-1  1  3 -1  1 -1 -1  0]]\n"
     ]
    }
   ],
   "source": [
    "# given patterns\n",
    "P = np.array([\n",
    "    [-1, -1, 1, -1, 1, -1, -1, 1],\n",
    "    [-1, -1, -1, -1, -1, 1, -1, -1],\n",
    "    [-1, 1, 1, -1, -1, 1, -1, 1]\n",
    "])\n",
    "\n",
    "# create hopfield object\n",
    "h = Hopfield(P)\n",
    "w = h.calculate_weight()\n",
    "print(w)"
   ]
  },
  {
   "cell_type": "code",
   "execution_count": 64,
   "metadata": {},
   "outputs": [
    {
     "name": "stdout",
     "output_type": "stream",
     "text": [
      "\n",
      "Pattern 1: Stable!\n",
      "\n",
      "Pattern 2: Stable!\n",
      "\n",
      "Pattern 3: Stable!\n"
     ]
    }
   ],
   "source": [
    "# Check if the given inputs are stable or not\n",
    "P = np.array([\n",
    "    [-1, -1, 1, -1, 1, -1, -1, 1],\n",
    "    [-1, -1, -1, -1, -1, 1, -1, -1],\n",
    "    [-1, 1, 1, -1, -1, 1, -1, 1],\n",
    "])\n",
    "\n",
    "for i in range(3):\n",
    "    closest, energy, acc, res = h.calculate_closest(P[i], 5)\n",
    "    print(\"\\nPattern {}: {}\".format(i + 1, res))"
   ]
  },
  {
   "attachments": {},
   "cell_type": "markdown",
   "metadata": {},
   "source": [
    "# B"
   ]
  },
  {
   "cell_type": "code",
   "execution_count": 66,
   "metadata": {},
   "outputs": [
    {
     "name": "stdout",
     "output_type": "stream",
     "text": [
      "\n",
      "Pattern 1: Not Stable!\n",
      "Closest node is [-1 -1  1 -1  1 -1 -1  1] with accuracy 87.5%\n",
      "Energy is -44\n",
      "\n",
      "Pattern 2: Not Stable!\n",
      "Closest node is [ 1  1 -1 -1 -1  1 -1 -1] with accuracy 100.0%\n",
      "Energy is -12\n",
      "\n",
      "Pattern 3: Not Stable!\n",
      "Closest node is [-1 -1  1 -1  1  1 -1  1] with accuracy 75.0%\n",
      "Energy is -32\n"
     ]
    }
   ],
   "source": [
    "# Check noisy patterns\n",
    "P = np.array([\n",
    "    [1, -1, 1, -1, 1, -1, -1, 1],\n",
    "    [1, 1, -1, -1, -1, 1, -1, -1],\n",
    "    [1, 1, 1, -1, 1, 1, -1, 1]\n",
    "])\n",
    "\n",
    "for i in range(3):\n",
    "    closest, energy, acc, res = h.calculate_closest(P[i], 100)\n",
    "    print(\"\\nPattern {}: {}\".format(i + 1, res))\n",
    "    print(\"Closest node is {} with accuracy {}%\".format(closest, acc))\n",
    "    print(\"Energy is {}\".format(energy))"
   ]
  },
  {
   "attachments": {},
   "cell_type": "markdown",
   "metadata": {},
   "source": [
    "# C"
   ]
  },
  {
   "cell_type": "code",
   "execution_count": 73,
   "metadata": {},
   "outputs": [
    {
     "name": "stdout",
     "output_type": "stream",
     "text": [
      "6 stable patterns are found!\n",
      "(-1, -1, -1, -1, -1, 1, -1, -1)\n",
      "(-1, -1, 1, -1, 1, -1, -1, 1)\n",
      "(-1, 1, 1, -1, -1, 1, -1, 1)\n",
      "(1, -1, -1, 1, 1, -1, 1, -1)\n",
      "(1, 1, -1, 1, -1, 1, 1, -1)\n",
      "(1, 1, 1, 1, 1, -1, 1, 1)\n"
     ]
    }
   ],
   "source": [
    "l = [-1, 1]\n",
    "all_patterns = list(product(l, repeat=8))\n",
    "stable_patterns = []\n",
    "\n",
    "for i in range(256):\n",
    "    closest, energy, acc, res = h.calculate_closest(all_patterns[i], 5)\n",
    "    if(res=='Stable!'):\n",
    "        stable_patterns.append(all_patterns[i])\n",
    "\n",
    "print(\"{} stable patterns are found!\".format(len(stable_patterns)))\n",
    "for p in stable_patterns:\n",
    "    print(p)"
   ]
  }
 ],
 "metadata": {
  "kernelspec": {
   "display_name": "Python 3",
   "language": "python",
   "name": "python3"
  },
  "language_info": {
   "codemirror_mode": {
    "name": "ipython",
    "version": 3
   },
   "file_extension": ".py",
   "mimetype": "text/x-python",
   "name": "python",
   "nbconvert_exporter": "python",
   "pygments_lexer": "ipython3",
   "version": "3.8.0"
  },
  "orig_nbformat": 4,
  "vscode": {
   "interpreter": {
    "hash": "723d4b7bc280cd31fdada53ad6420192b9a3a8d60631096143cc718cb9440dc1"
   }
  }
 },
 "nbformat": 4,
 "nbformat_minor": 2
}
